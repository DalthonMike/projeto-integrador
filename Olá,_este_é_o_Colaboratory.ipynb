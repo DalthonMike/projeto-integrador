{
  "cells": [
    {
      "cell_type": "markdown",
      "metadata": {
        "id": "view-in-github",
        "colab_type": "text"
      },
      "source": [
        "<a href=\"https://colab.research.google.com/github/DalthonMike/projeto-integrador/blob/main/Ol%C3%A1%2C_este_%C3%A9_o_Colaboratory.ipynb\" target=\"_parent\"><img src=\"https://colab.research.google.com/assets/colab-badge.svg\" alt=\"Open In Colab\"/></a>"
      ]
    },
    {
      "cell_type": "markdown",
      "source": [
        "1) CARREGAR A BASE DE DADOS"
      ],
      "metadata": {
        "id": "-GgunnvGXLew"
      }
    },
    {
      "cell_type": "code",
      "source": [
        "import numpy as np\n",
        "import pandas as pd\n",
        "base = pd.read_csv('cmc.data')\n",
        "base.describe()"
      ],
      "metadata": {
        "id": "jhyK3QtdXI7h",
        "outputId": "68175023-fe39-47db-eeb5-bc44451760d6",
        "colab": {
          "base_uri": "https://localhost:8080/",
          "height": 300
        }
      },
      "execution_count": 7,
      "outputs": [
        {
          "output_type": "execute_result",
          "data": {
            "text/plain": [
              "                24            2            3          3.1            1  \\\n",
              "count  1472.000000  1472.000000  1472.000000  1472.000000  1472.000000   \n",
              "mean     32.544158     2.959239     3.430027     3.261549     0.850543   \n",
              "std       8.227027     1.015031     0.816549     2.359341     0.356659   \n",
              "min      16.000000     1.000000     1.000000     0.000000     0.000000   \n",
              "25%      26.000000     2.000000     3.000000     1.000000     1.000000   \n",
              "50%      32.000000     3.000000     4.000000     3.000000     1.000000   \n",
              "75%      39.000000     4.000000     4.000000     4.250000     1.000000   \n",
              "max      49.000000     4.000000     4.000000    16.000000     1.000000   \n",
              "\n",
              "               1.1          2.1          3.2            0          1.2  \n",
              "count  1472.000000  1472.000000  1472.000000  1472.000000  1472.000000  \n",
              "mean      0.749321     2.137908     3.133832     0.074049     1.920516  \n",
              "std       0.433552     0.865144     0.976486     0.261939     0.876345  \n",
              "min       0.000000     1.000000     1.000000     0.000000     1.000000  \n",
              "25%       0.000000     1.000000     3.000000     0.000000     1.000000  \n",
              "50%       1.000000     2.000000     3.000000     0.000000     2.000000  \n",
              "75%       1.000000     3.000000     4.000000     0.000000     3.000000  \n",
              "max       1.000000     4.000000     4.000000     1.000000     3.000000  "
            ],
            "text/html": [
              "\n",
              "  <div id=\"df-cc649e6b-9880-49c0-8062-32ccbfb91421\">\n",
              "    <div class=\"colab-df-container\">\n",
              "      <div>\n",
              "<style scoped>\n",
              "    .dataframe tbody tr th:only-of-type {\n",
              "        vertical-align: middle;\n",
              "    }\n",
              "\n",
              "    .dataframe tbody tr th {\n",
              "        vertical-align: top;\n",
              "    }\n",
              "\n",
              "    .dataframe thead th {\n",
              "        text-align: right;\n",
              "    }\n",
              "</style>\n",
              "<table border=\"1\" class=\"dataframe\">\n",
              "  <thead>\n",
              "    <tr style=\"text-align: right;\">\n",
              "      <th></th>\n",
              "      <th>24</th>\n",
              "      <th>2</th>\n",
              "      <th>3</th>\n",
              "      <th>3.1</th>\n",
              "      <th>1</th>\n",
              "      <th>1.1</th>\n",
              "      <th>2.1</th>\n",
              "      <th>3.2</th>\n",
              "      <th>0</th>\n",
              "      <th>1.2</th>\n",
              "    </tr>\n",
              "  </thead>\n",
              "  <tbody>\n",
              "    <tr>\n",
              "      <th>count</th>\n",
              "      <td>1472.000000</td>\n",
              "      <td>1472.000000</td>\n",
              "      <td>1472.000000</td>\n",
              "      <td>1472.000000</td>\n",
              "      <td>1472.000000</td>\n",
              "      <td>1472.000000</td>\n",
              "      <td>1472.000000</td>\n",
              "      <td>1472.000000</td>\n",
              "      <td>1472.000000</td>\n",
              "      <td>1472.000000</td>\n",
              "    </tr>\n",
              "    <tr>\n",
              "      <th>mean</th>\n",
              "      <td>32.544158</td>\n",
              "      <td>2.959239</td>\n",
              "      <td>3.430027</td>\n",
              "      <td>3.261549</td>\n",
              "      <td>0.850543</td>\n",
              "      <td>0.749321</td>\n",
              "      <td>2.137908</td>\n",
              "      <td>3.133832</td>\n",
              "      <td>0.074049</td>\n",
              "      <td>1.920516</td>\n",
              "    </tr>\n",
              "    <tr>\n",
              "      <th>std</th>\n",
              "      <td>8.227027</td>\n",
              "      <td>1.015031</td>\n",
              "      <td>0.816549</td>\n",
              "      <td>2.359341</td>\n",
              "      <td>0.356659</td>\n",
              "      <td>0.433552</td>\n",
              "      <td>0.865144</td>\n",
              "      <td>0.976486</td>\n",
              "      <td>0.261939</td>\n",
              "      <td>0.876345</td>\n",
              "    </tr>\n",
              "    <tr>\n",
              "      <th>min</th>\n",
              "      <td>16.000000</td>\n",
              "      <td>1.000000</td>\n",
              "      <td>1.000000</td>\n",
              "      <td>0.000000</td>\n",
              "      <td>0.000000</td>\n",
              "      <td>0.000000</td>\n",
              "      <td>1.000000</td>\n",
              "      <td>1.000000</td>\n",
              "      <td>0.000000</td>\n",
              "      <td>1.000000</td>\n",
              "    </tr>\n",
              "    <tr>\n",
              "      <th>25%</th>\n",
              "      <td>26.000000</td>\n",
              "      <td>2.000000</td>\n",
              "      <td>3.000000</td>\n",
              "      <td>1.000000</td>\n",
              "      <td>1.000000</td>\n",
              "      <td>0.000000</td>\n",
              "      <td>1.000000</td>\n",
              "      <td>3.000000</td>\n",
              "      <td>0.000000</td>\n",
              "      <td>1.000000</td>\n",
              "    </tr>\n",
              "    <tr>\n",
              "      <th>50%</th>\n",
              "      <td>32.000000</td>\n",
              "      <td>3.000000</td>\n",
              "      <td>4.000000</td>\n",
              "      <td>3.000000</td>\n",
              "      <td>1.000000</td>\n",
              "      <td>1.000000</td>\n",
              "      <td>2.000000</td>\n",
              "      <td>3.000000</td>\n",
              "      <td>0.000000</td>\n",
              "      <td>2.000000</td>\n",
              "    </tr>\n",
              "    <tr>\n",
              "      <th>75%</th>\n",
              "      <td>39.000000</td>\n",
              "      <td>4.000000</td>\n",
              "      <td>4.000000</td>\n",
              "      <td>4.250000</td>\n",
              "      <td>1.000000</td>\n",
              "      <td>1.000000</td>\n",
              "      <td>3.000000</td>\n",
              "      <td>4.000000</td>\n",
              "      <td>0.000000</td>\n",
              "      <td>3.000000</td>\n",
              "    </tr>\n",
              "    <tr>\n",
              "      <th>max</th>\n",
              "      <td>49.000000</td>\n",
              "      <td>4.000000</td>\n",
              "      <td>4.000000</td>\n",
              "      <td>16.000000</td>\n",
              "      <td>1.000000</td>\n",
              "      <td>1.000000</td>\n",
              "      <td>4.000000</td>\n",
              "      <td>4.000000</td>\n",
              "      <td>1.000000</td>\n",
              "      <td>3.000000</td>\n",
              "    </tr>\n",
              "  </tbody>\n",
              "</table>\n",
              "</div>\n",
              "      <button class=\"colab-df-convert\" onclick=\"convertToInteractive('df-cc649e6b-9880-49c0-8062-32ccbfb91421')\"\n",
              "              title=\"Convert this dataframe to an interactive table.\"\n",
              "              style=\"display:none;\">\n",
              "        \n",
              "  <svg xmlns=\"http://www.w3.org/2000/svg\" height=\"24px\"viewBox=\"0 0 24 24\"\n",
              "       width=\"24px\">\n",
              "    <path d=\"M0 0h24v24H0V0z\" fill=\"none\"/>\n",
              "    <path d=\"M18.56 5.44l.94 2.06.94-2.06 2.06-.94-2.06-.94-.94-2.06-.94 2.06-2.06.94zm-11 1L8.5 8.5l.94-2.06 2.06-.94-2.06-.94L8.5 2.5l-.94 2.06-2.06.94zm10 10l.94 2.06.94-2.06 2.06-.94-2.06-.94-.94-2.06-.94 2.06-2.06.94z\"/><path d=\"M17.41 7.96l-1.37-1.37c-.4-.4-.92-.59-1.43-.59-.52 0-1.04.2-1.43.59L10.3 9.45l-7.72 7.72c-.78.78-.78 2.05 0 2.83L4 21.41c.39.39.9.59 1.41.59.51 0 1.02-.2 1.41-.59l7.78-7.78 2.81-2.81c.8-.78.8-2.07 0-2.86zM5.41 20L4 18.59l7.72-7.72 1.47 1.35L5.41 20z\"/>\n",
              "  </svg>\n",
              "      </button>\n",
              "      \n",
              "  <style>\n",
              "    .colab-df-container {\n",
              "      display:flex;\n",
              "      flex-wrap:wrap;\n",
              "      gap: 12px;\n",
              "    }\n",
              "\n",
              "    .colab-df-convert {\n",
              "      background-color: #E8F0FE;\n",
              "      border: none;\n",
              "      border-radius: 50%;\n",
              "      cursor: pointer;\n",
              "      display: none;\n",
              "      fill: #1967D2;\n",
              "      height: 32px;\n",
              "      padding: 0 0 0 0;\n",
              "      width: 32px;\n",
              "    }\n",
              "\n",
              "    .colab-df-convert:hover {\n",
              "      background-color: #E2EBFA;\n",
              "      box-shadow: 0px 1px 2px rgba(60, 64, 67, 0.3), 0px 1px 3px 1px rgba(60, 64, 67, 0.15);\n",
              "      fill: #174EA6;\n",
              "    }\n",
              "\n",
              "    [theme=dark] .colab-df-convert {\n",
              "      background-color: #3B4455;\n",
              "      fill: #D2E3FC;\n",
              "    }\n",
              "\n",
              "    [theme=dark] .colab-df-convert:hover {\n",
              "      background-color: #434B5C;\n",
              "      box-shadow: 0px 1px 3px 1px rgba(0, 0, 0, 0.15);\n",
              "      filter: drop-shadow(0px 1px 2px rgba(0, 0, 0, 0.3));\n",
              "      fill: #FFFFFF;\n",
              "    }\n",
              "  </style>\n",
              "\n",
              "      <script>\n",
              "        const buttonEl =\n",
              "          document.querySelector('#df-cc649e6b-9880-49c0-8062-32ccbfb91421 button.colab-df-convert');\n",
              "        buttonEl.style.display =\n",
              "          google.colab.kernel.accessAllowed ? 'block' : 'none';\n",
              "\n",
              "        async function convertToInteractive(key) {\n",
              "          const element = document.querySelector('#df-cc649e6b-9880-49c0-8062-32ccbfb91421');\n",
              "          const dataTable =\n",
              "            await google.colab.kernel.invokeFunction('convertToInteractive',\n",
              "                                                     [key], {});\n",
              "          if (!dataTable) return;\n",
              "\n",
              "          const docLinkHtml = 'Like what you see? Visit the ' +\n",
              "            '<a target=\"_blank\" href=https://colab.research.google.com/notebooks/data_table.ipynb>data table notebook</a>'\n",
              "            + ' to learn more about interactive tables.';\n",
              "          element.innerHTML = '';\n",
              "          dataTable['output_type'] = 'display_data';\n",
              "          await google.colab.output.renderOutput(dataTable, element);\n",
              "          const docLink = document.createElement('div');\n",
              "          docLink.innerHTML = docLinkHtml;\n",
              "          element.appendChild(docLink);\n",
              "        }\n",
              "      </script>\n",
              "    </div>\n",
              "  </div>\n",
              "  "
            ]
          },
          "metadata": {},
          "execution_count": 7
        }
      ]
    },
    {
      "cell_type": "markdown",
      "source": [
        "2) DIVIDIR: PREVISORES E CLASSE"
      ],
      "metadata": {
        "id": "mV6dTa9nglJI"
      }
    },
    {
      "cell_type": "code",
      "source": [
        "previsores= base.iloc[:,0:10].values\n",
        "classe = base.iloc[:,8].values\n",
        "previsores[:,0]"
      ],
      "metadata": {
        "id": "9rSq9Cmwgo1o",
        "outputId": "1045638a-8c90-4485-9abf-43d494915f5c",
        "colab": {
          "base_uri": "https://localhost:8080/"
        }
      },
      "execution_count": 13,
      "outputs": [
        {
          "output_type": "execute_result",
          "data": {
            "text/plain": [
              "array([45, 43, 42, ..., 39, 33, 17])"
            ]
          },
          "metadata": {},
          "execution_count": 13
        }
      ]
    },
    {
      "cell_type": "markdown",
      "source": [
        "3) PRE-PROCESSAMENTO"
      ],
      "metadata": {
        "id": "poFLj5EpkIMk"
      }
    },
    {
      "cell_type": "code",
      "source": [
        "from sklearn.preprocessing import LabelEncoder\n",
        "labeliesb = LabelEncoder()\n",
        "previsores[:,0] = labeliesb.fit_transform(previsores[:,0])\n",
        "previsores[:,1] = labeliesb.fit_transform(previsores[:,1])\n",
        "previsores[:,2] = labeliesb.fit_transform(previsores[:,2])\n",
        "previsores[:,3] = labeliesb.fit_transform(previsores[:,3]) \n",
        "previsores[:,4] = labeliesb.fit_transform(previsores[:,4])\n",
        "previsores[:,5] = labeliesb.fit_transform(previsores[:,5])\n",
        "previsores[:,6] = labeliesb.fit_transform(previsores[:,6])\n",
        "previsores[:,7] = labeliesb.fit_transform(previsores[:,7])\n",
        "previsores[:,8] = labeliesb.fit_transform(previsores[:,8])\n",
        "previsores[:,9] = labeliesb.fit_transform(previsores[:,9])\n",
        "classe = labeliesb.fit_transform(classe)\n",
        "previsores"
      ],
      "metadata": {
        "id": "q2W9xSBokL3a",
        "outputId": "e4073781-ae34-401a-9754-9ddd5fdfa6a5",
        "colab": {
          "base_uri": "https://localhost:8080/"
        }
      },
      "execution_count": 16,
      "outputs": [
        {
          "output_type": "execute_result",
          "data": {
            "text/plain": [
              "array([[29,  0,  2, ...,  3,  0,  0],\n",
              "       [27,  1,  2, ...,  3,  0,  0],\n",
              "       [26,  2,  1, ...,  2,  0,  0],\n",
              "       ...,\n",
              "       [23,  2,  2, ...,  3,  0,  2],\n",
              "       [17,  2,  2, ...,  1,  0,  2],\n",
              "       [ 1,  2,  2, ...,  3,  0,  2]])"
            ]
          },
          "metadata": {},
          "execution_count": 16
        }
      ]
    },
    {
      "cell_type": "markdown",
      "source": [
        "4) DIVIDIR DADOS DE TREINAMENTO E CLASSE"
      ],
      "metadata": {
        "id": "hOiZ8B8al5mq"
      }
    },
    {
      "cell_type": "code",
      "source": [
        "from sklearn.model_selection import train_test_split\n",
        "previsor_treinamento, previsor_teste, classe_treinamento, classe_teste = train_test_split(previsores, classe, test_size = 0.25, random_state = 0)\n",
        "classe_treinamento.size"
      ],
      "metadata": {
        "id": "ImmNZE3fnyga",
        "outputId": "0fda7dae-5898-43a6-c2f0-a2dc67750a6e",
        "colab": {
          "base_uri": "https://localhost:8080/"
        }
      },
      "execution_count": 20,
      "outputs": [
        {
          "output_type": "execute_result",
          "data": {
            "text/plain": [
              "1104"
            ]
          },
          "metadata": {},
          "execution_count": 20
        }
      ]
    },
    {
      "cell_type": "markdown",
      "source": [
        "5) SALVAR NO ARQUIVO *.pkl"
      ],
      "metadata": {
        "id": "2Wz8PcDapu1n"
      }
    },
    {
      "cell_type": "code",
      "source": [
        "import pickle\n",
        "with open('cmciesb.pkl', mode = 'wb') as f:\n",
        "  pickle.dump([previsor_treinamento, previsor_teste, classe_treinamento, classe_teste])"
      ],
      "metadata": {
        "id": "3Hf_bBlNpzIw",
        "outputId": "235edee1-b47c-45b1-8b3b-06f43b7c2952",
        "colab": {
          "base_uri": "https://localhost:8080/",
          "height": 200
        }
      },
      "execution_count": 21,
      "outputs": [
        {
          "output_type": "error",
          "ename": "TypeError",
          "evalue": "ignored",
          "traceback": [
            "\u001b[0;31m---------------------------------------------------------------------------\u001b[0m",
            "\u001b[0;31mTypeError\u001b[0m                                 Traceback (most recent call last)",
            "\u001b[0;32m<ipython-input-21-2a6c7d5e948b>\u001b[0m in \u001b[0;36m<module>\u001b[0;34m()\u001b[0m\n\u001b[1;32m      1\u001b[0m \u001b[0;32mimport\u001b[0m \u001b[0mpickle\u001b[0m\u001b[0;34m\u001b[0m\u001b[0;34m\u001b[0m\u001b[0m\n\u001b[1;32m      2\u001b[0m \u001b[0;32mwith\u001b[0m \u001b[0mopen\u001b[0m\u001b[0;34m(\u001b[0m\u001b[0;34m'cmciesb.pkl'\u001b[0m\u001b[0;34m,\u001b[0m \u001b[0mmode\u001b[0m \u001b[0;34m=\u001b[0m \u001b[0;34m'wb'\u001b[0m\u001b[0;34m)\u001b[0m \u001b[0;32mas\u001b[0m \u001b[0mf\u001b[0m\u001b[0;34m:\u001b[0m\u001b[0;34m\u001b[0m\u001b[0;34m\u001b[0m\u001b[0m\n\u001b[0;32m----> 3\u001b[0;31m   \u001b[0mpickle\u001b[0m\u001b[0;34m.\u001b[0m\u001b[0mdump\u001b[0m\u001b[0;34m(\u001b[0m\u001b[0;34m[\u001b[0m\u001b[0mprevisor_treinamento\u001b[0m\u001b[0;34m,\u001b[0m \u001b[0mprevisor_teste\u001b[0m\u001b[0;34m,\u001b[0m \u001b[0mclasse_treinamento\u001b[0m\u001b[0;34m,\u001b[0m \u001b[0mclasse_teste\u001b[0m\u001b[0;34m]\u001b[0m\u001b[0;34m)\u001b[0m\u001b[0;34m\u001b[0m\u001b[0;34m\u001b[0m\u001b[0m\n\u001b[0m",
            "\u001b[0;31mTypeError\u001b[0m: dump() missing required argument 'file' (pos 2)"
          ]
        }
      ]
    }
  ],
  "metadata": {
    "colab": {
      "collapsed_sections": [],
      "name": "Olá, este é o Colaboratory",
      "provenance": [],
      "include_colab_link": true
    },
    "kernelspec": {
      "display_name": "Python 3",
      "name": "python3"
    }
  },
  "nbformat": 4,
  "nbformat_minor": 0
}